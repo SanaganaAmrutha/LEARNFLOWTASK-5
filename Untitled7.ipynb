{
 "cells": [
  {
   "cell_type": "code",
   "execution_count": 2,
   "id": "f795d14c-689b-4a3b-820a-e30507fd1113",
   "metadata": {
    "tags": []
   },
   "outputs": [],
   "source": [
    "import pandas as pd\n",
    "import numpy as np\n",
    "from keras.models import Sequential\n",
    "from keras.layers import Dense, LSTM\n",
    "from sklearn.preprocessing import MinMaxScaler\n",
    "from sklearn.model_selection import train_test_split\n"
   ]
  },
  {
   "cell_type": "code",
   "execution_count": null,
   "id": "e31628ed-893e-4ff2-ad2d-a5bca15379be",
   "metadata": {},
   "outputs": [],
   "source": []
  },
  {
   "cell_type": "code",
   "execution_count": 5,
   "id": "07dec305-cdc5-4e7c-9cb4-e2df8cbc86be",
   "metadata": {
    "tags": []
   },
   "outputs": [],
   "source": [
    "# Load the dataset\n",
    "df = pd.read_csv('/home/amrtutha/Downloads/ML task 5/infolimpioavanzadoTarget.csv')\n"
   ]
  },
  {
   "cell_type": "code",
   "execution_count": 7,
   "id": "8adbff16-80b1-4cd3-ba53-c4efff3b1707",
   "metadata": {
    "tags": []
   },
   "outputs": [],
   "source": [
    "scaler = MinMaxScaler(feature_range=(0, 1))\n",
    "scaled_data = scaler.fit_transform(df['open'].values.reshape(-1,1))\n"
   ]
  },
  {
   "cell_type": "code",
   "execution_count": 8,
   "id": "30b88eec-a751-4168-90db-8a5c6a4743e2",
   "metadata": {
    "tags": []
   },
   "outputs": [],
   "source": [
    "def create_dataset(dataset, look_back=1):\n",
    "    dataX, dataY = [], []\n",
    "    for i in range(len(dataset)-look_back-1):\n",
    "        a = dataset[i:(i+look_back), 0]\n",
    "        dataX.append(a)\n",
    "        dataY.append(dataset[i + look_back, 0])\n",
    "    return np.array(dataX), np.array(dataY)\n",
    "\n",
    "look_back = 1\n",
    "trainX, trainY = create_dataset(scaled_data, look_back)\n",
    "trainX = np.reshape(trainX, (trainX.shape[0], 1, trainX.shape[1]))\n"
   ]
  },
  {
   "cell_type": "code",
   "execution_count": 10,
   "id": "85d42535-df07-4626-a01a-db39dc02217f",
   "metadata": {
    "tags": []
   },
   "outputs": [
    {
     "name": "stdout",
     "output_type": "stream",
     "text": [
      "Epoch 1/20\n",
      "7779/7779 - 11s - 1ms/step - loss: 0.0012\n",
      "Epoch 2/20\n",
      "7779/7779 - 10s - 1ms/step - loss: 2.2314e-04\n",
      "Epoch 3/20\n",
      "7779/7779 - 9s - 1ms/step - loss: 2.2867e-04\n",
      "Epoch 4/20\n",
      "7779/7779 - 10s - 1ms/step - loss: 2.2076e-04\n",
      "Epoch 5/20\n",
      "7779/7779 - 10s - 1ms/step - loss: 2.2582e-04\n",
      "Epoch 6/20\n",
      "7779/7779 - 9s - 1ms/step - loss: 2.1945e-04\n",
      "Epoch 7/20\n",
      "7779/7779 - 10s - 1ms/step - loss: 2.2056e-04\n",
      "Epoch 8/20\n",
      "7779/7779 - 9s - 1ms/step - loss: 2.2088e-04\n",
      "Epoch 9/20\n",
      "7779/7779 - 10s - 1ms/step - loss: 2.1354e-04\n",
      "Epoch 10/20\n",
      "7779/7779 - 9s - 1ms/step - loss: 2.2113e-04\n",
      "Epoch 11/20\n",
      "7779/7779 - 9s - 1ms/step - loss: 2.1553e-04\n",
      "Epoch 12/20\n",
      "7779/7779 - 9s - 1ms/step - loss: 2.1486e-04\n",
      "Epoch 13/20\n",
      "7779/7779 - 9s - 1ms/step - loss: 2.1339e-04\n",
      "Epoch 14/20\n",
      "7779/7779 - 9s - 1ms/step - loss: 2.1527e-04\n",
      "Epoch 15/20\n",
      "7779/7779 - 10s - 1ms/step - loss: 2.1107e-04\n",
      "Epoch 16/20\n",
      "7779/7779 - 9s - 1ms/step - loss: 2.1334e-04\n",
      "Epoch 17/20\n",
      "7779/7779 - 10s - 1ms/step - loss: 2.1301e-04\n",
      "Epoch 18/20\n",
      "7779/7779 - 9s - 1ms/step - loss: 2.1373e-04\n",
      "Epoch 19/20\n",
      "7779/7779 - 9s - 1ms/step - loss: 2.1076e-04\n",
      "Epoch 20/20\n",
      "7779/7779 - 10s - 1ms/step - loss: 2.0805e-04\n"
     ]
    },
    {
     "data": {
      "text/plain": [
       "<keras.src.callbacks.history.History at 0x7fa2b7f4f290>"
      ]
     },
     "execution_count": 10,
     "metadata": {},
     "output_type": "execute_result"
    }
   ],
   "source": [
    "model.fit(trainX, trainY, epochs=20, batch_size=1, verbose=2)\n"
   ]
  },
  {
   "cell_type": "code",
   "execution_count": 13,
   "id": "58574e4f-c29c-47e9-b43e-e1d1c547a12d",
   "metadata": {
    "tags": []
   },
   "outputs": [],
   "source": [
    "model = Sequential()\n",
    "model.add(LSTM(50, input_shape=(trainX.shape[1], trainX.shape[2])))\n",
    "model.add(Dense(1))\n",
    "model.compile(loss='mean_squared_error', optimizer='adam')\n"
   ]
  },
  {
   "cell_type": "code",
   "execution_count": 14,
   "id": "5303cd7d-80df-4d4b-a366-c29c857e5983",
   "metadata": {
    "tags": []
   },
   "outputs": [],
   "source": [
    "from keras.layers import Input, LSTM, Dense\n",
    "from keras.models import Model\n",
    "inputs = Input(shape=(trainX.shape[1], trainX.shape[2]))\n",
    "x = LSTM(50)(inputs)\n",
    "outputs = Dense(1)(x)\n",
    "model = Model(inputs=inputs, outputs=outputs)\n",
    "model.compile(loss='mean_squared_error', optimizer='adam')\n"
   ]
  },
  {
   "cell_type": "code",
   "execution_count": 15,
   "id": "505f2ca0-91e3-4942-bded-1179a2c2f7a2",
   "metadata": {
    "tags": []
   },
   "outputs": [
    {
     "name": "stdout",
     "output_type": "stream",
     "text": [
      "Epoch 1/20\n",
      "7779/7779 - 10s - 1ms/step - loss: 0.0012\n",
      "Epoch 2/20\n",
      "7779/7779 - 10s - 1ms/step - loss: 2.2971e-04\n",
      "Epoch 3/20\n",
      "7779/7779 - 9s - 1ms/step - loss: 2.2533e-04\n",
      "Epoch 4/20\n",
      "7779/7779 - 9s - 1ms/step - loss: 2.2348e-04\n",
      "Epoch 5/20\n",
      "7779/7779 - 10s - 1ms/step - loss: 2.2454e-04\n",
      "Epoch 6/20\n",
      "7779/7779 - 9s - 1ms/step - loss: 2.2347e-04\n",
      "Epoch 7/20\n",
      "7779/7779 - 9s - 1ms/step - loss: 2.1926e-04\n",
      "Epoch 8/20\n",
      "7779/7779 - 9s - 1ms/step - loss: 2.1668e-04\n",
      "Epoch 9/20\n",
      "7779/7779 - 10s - 1ms/step - loss: 2.1541e-04\n",
      "Epoch 10/20\n",
      "7779/7779 - 9s - 1ms/step - loss: 2.2587e-04\n",
      "Epoch 11/20\n",
      "7779/7779 - 9s - 1ms/step - loss: 2.1830e-04\n",
      "Epoch 12/20\n",
      "7779/7779 - 9s - 1ms/step - loss: 2.1134e-04\n",
      "Epoch 13/20\n",
      "7779/7779 - 10s - 1ms/step - loss: 2.2013e-04\n",
      "Epoch 14/20\n",
      "7779/7779 - 9s - 1ms/step - loss: 2.1641e-04\n",
      "Epoch 15/20\n",
      "7779/7779 - 9s - 1ms/step - loss: 2.1695e-04\n",
      "Epoch 16/20\n",
      "7779/7779 - 9s - 1ms/step - loss: 2.1826e-04\n",
      "Epoch 17/20\n",
      "7779/7779 - 9s - 1ms/step - loss: 2.1523e-04\n",
      "Epoch 18/20\n",
      "7779/7779 - 9s - 1ms/step - loss: 2.1262e-04\n",
      "Epoch 19/20\n",
      "7779/7779 - 9s - 1ms/step - loss: 2.1413e-04\n",
      "Epoch 20/20\n",
      "7779/7779 - 9s - 1ms/step - loss: 2.1062e-04\n"
     ]
    },
    {
     "data": {
      "text/plain": [
       "<keras.src.callbacks.history.History at 0x7fa2a95c00d0>"
      ]
     },
     "execution_count": 15,
     "metadata": {},
     "output_type": "execute_result"
    }
   ],
   "source": [
    "model.fit(trainX, trainY, epochs=20, batch_size=1, verbose=2)\n"
   ]
  },
  {
   "cell_type": "code",
   "execution_count": 21,
   "id": "56e611f5-f5bf-4f45-8448-802921742c2b",
   "metadata": {},
   "outputs": [
    {
     "name": "stdout",
     "output_type": "stream",
     "text": [
      "         date       open       high        low      close   adjclose  volume  \\\n",
      "0  2022-01-03  17.799999  18.219000  17.500000  17.760000  17.760000  106600   \n",
      "1  2022-01-04  17.700001  18.309999  17.620001  17.660000  17.660000  128700   \n",
      "2  2022-01-05  17.580000  17.799999  16.910000  16.950001  16.950001  103100   \n",
      "3  2022-01-06  16.650000  16.879999  16.139999  16.170000  16.170000  173600   \n",
      "4  2022-01-07  16.219999  16.290001  15.630000  15.710000  15.710000  137800   \n",
      "\n",
      "  ticker  RSIadjclose15  RSIvolume15  ...  high-15  K-15  D-15  \\\n",
      "0   ASLE            NaN          NaN  ...      NaN   NaN   NaN   \n",
      "1   ASLE            NaN          NaN  ...      NaN   NaN   NaN   \n",
      "2   ASLE            NaN          NaN  ...      NaN   NaN   NaN   \n",
      "3   ASLE            NaN          NaN  ...      NaN   NaN   NaN   \n",
      "4   ASLE            NaN          NaN  ...      NaN   NaN   NaN   \n",
      "\n",
      "   stochastic-k-15  stochastic-d-15  stochastic-kd-15  volumenrelativo  \\\n",
      "0              NaN              NaN               NaN         0.919758   \n",
      "1              NaN              NaN               NaN         1.110440   \n",
      "2              NaN              NaN               NaN         0.889560   \n",
      "3              NaN              NaN               NaN         1.497843   \n",
      "4              NaN              NaN               NaN         1.188956   \n",
      "\n",
      "       diff  INCREMENTO  TARGET  \n",
      "0 -1.900001   -9.664295       0  \n",
      "1 -1.379999   -7.247895       0  \n",
      "2 -0.930000   -5.201344       0  \n",
      "3 -0.360000   -2.177856       0  \n",
      "4 -0.120000   -0.758054       0  \n",
      "\n",
      "[5 rows x 1285 columns]\n"
     ]
    }
   ],
   "source": [
    "import pandas as pd\n",
    "\n",
    "data = pd.read_csv('/home/amrtutha/Downloads/ML task 5/infolimpioavanzadoTarget.csv')\n",
    "print(data.head())\n"
   ]
  },
  {
   "cell_type": "code",
   "execution_count": 22,
   "id": "0014503c-31bb-47df-9ad9-f846c911f997",
   "metadata": {
    "tags": []
   },
   "outputs": [
    {
     "name": "stdout",
     "output_type": "stream",
     "text": [
      "date                  0\n",
      "open                  0\n",
      "high                  0\n",
      "low                   0\n",
      "close                 0\n",
      "                   ... \n",
      "stochastic-kd-15    587\n",
      "volumenrelativo     215\n",
      "diff                155\n",
      "INCREMENTO          155\n",
      "TARGET                0\n",
      "Length: 1285, dtype: int64\n"
     ]
    }
   ],
   "source": [
    "print(data.isnull().sum())\n"
   ]
  },
  {
   "cell_type": "code",
   "execution_count": 34,
   "id": "0a7072f1-3d8f-4808-828f-a1832cb4c143",
   "metadata": {
    "tags": []
   },
   "outputs": [],
   "source": [
    "from keras.models import Sequential\n",
    "from keras.layers import LSTM, Dense, Input\n",
    "\n",
    "model = Sequential()\n",
    "model.add(Input(shape=(time_step, 1))) \n",
    "model.add(LSTM(units=50, return_sequences=True))\n",
    "model.add(LSTM(units=50))\n",
    "model.add(Dense(units=1))\n",
    "model.compile(optimizer='adam', loss='mean_squared_error')\n"
   ]
  },
  {
   "cell_type": "code",
   "execution_count": 35,
   "id": "e6a3f97f-9f6d-4373-a4af-b383cdba230f",
   "metadata": {
    "tags": []
   },
   "outputs": [],
   "source": [
    "model = Sequential()\n",
    "model.add(LSTM(units=50, return_sequences=True, input_shape=(time_step, 1)))  \n",
    "model.add(LSTM(units=50))\n",
    "model.add(Dense(units=1))\n",
    "model.compile(optimizer='adam', loss='mean_squared_error')\n"
   ]
  },
  {
   "cell_type": "code",
   "execution_count": 36,
   "id": "5f893ebc-61c7-4f5e-8716-9ae60ea7e3af",
   "metadata": {
    "tags": []
   },
   "outputs": [
    {
     "name": "stdout",
     "output_type": "stream",
     "text": [
      "Epoch 1/10\n",
      "\u001b[1m192/192\u001b[0m \u001b[32m━━━━━━━━━━━━━━━━━━━━\u001b[0m\u001b[37m\u001b[0m \u001b[1m13s\u001b[0m 57ms/step - loss: 0.0059\n",
      "Epoch 2/10\n",
      "\u001b[1m192/192\u001b[0m \u001b[32m━━━━━━━━━━━━━━━━━━━━\u001b[0m\u001b[37m\u001b[0m \u001b[1m20s\u001b[0m 56ms/step - loss: 9.8665e-04\n",
      "Epoch 3/10\n",
      "\u001b[1m192/192\u001b[0m \u001b[32m━━━━━━━━━━━━━━━━━━━━\u001b[0m\u001b[37m\u001b[0m \u001b[1m21s\u001b[0m 56ms/step - loss: 4.5501e-04\n",
      "Epoch 4/10\n",
      "\u001b[1m192/192\u001b[0m \u001b[32m━━━━━━━━━━━━━━━━━━━━\u001b[0m\u001b[37m\u001b[0m \u001b[1m22s\u001b[0m 62ms/step - loss: 7.0892e-04\n",
      "Epoch 5/10\n",
      "\u001b[1m192/192\u001b[0m \u001b[32m━━━━━━━━━━━━━━━━━━━━\u001b[0m\u001b[37m\u001b[0m \u001b[1m12s\u001b[0m 62ms/step - loss: 5.3290e-04\n",
      "Epoch 6/10\n",
      "\u001b[1m192/192\u001b[0m \u001b[32m━━━━━━━━━━━━━━━━━━━━\u001b[0m\u001b[37m\u001b[0m \u001b[1m11s\u001b[0m 58ms/step - loss: 4.7701e-04\n",
      "Epoch 7/10\n",
      "\u001b[1m192/192\u001b[0m \u001b[32m━━━━━━━━━━━━━━━━━━━━\u001b[0m\u001b[37m\u001b[0m \u001b[1m11s\u001b[0m 57ms/step - loss: 4.2210e-04\n",
      "Epoch 8/10\n",
      "\u001b[1m192/192\u001b[0m \u001b[32m━━━━━━━━━━━━━━━━━━━━\u001b[0m\u001b[37m\u001b[0m \u001b[1m11s\u001b[0m 58ms/step - loss: 5.1170e-04\n",
      "Epoch 9/10\n",
      "\u001b[1m192/192\u001b[0m \u001b[32m━━━━━━━━━━━━━━━━━━━━\u001b[0m\u001b[37m\u001b[0m \u001b[1m12s\u001b[0m 61ms/step - loss: 3.4957e-04\n",
      "Epoch 10/10\n",
      "\u001b[1m192/192\u001b[0m \u001b[32m━━━━━━━━━━━━━━━━━━━━\u001b[0m\u001b[37m\u001b[0m \u001b[1m12s\u001b[0m 61ms/step - loss: 1.8191e-04\n",
      "\u001b[1m48/48\u001b[0m \u001b[32m━━━━━━━━━━━━━━━━━━━━\u001b[0m\u001b[37m\u001b[0m \u001b[1m1s\u001b[0m 20ms/step\n"
     ]
    },
    {
     "data": {
      "image/png": "[encoded data removed]",
      "text/plain": [
       "<Figure size 1600x800 with 1 Axes>"
      ]
     },
     "metadata": {},
     "output_type": "display_data"
    },
    {
     "name": "stdout",
     "output_type": "stream",
     "text": [
      "RMSE: 15386889.636747355\n"
     ]
    }
   ],
   "source": [
    "\n",
    "model.fit(X_train, y_train, epochs=10, batch_size=32)\n",
    "y_pred = model.predict(X_test)\n",
    "y_pred = scaler.inverse_transform(y_pred)\n",
    "y_test = scaler.inverse_transform(y_test.reshape(-1, 1))\n",
    "\n",
    "# Plotting\n",
    "plt.figure(figsize=(16,8))\n",
    "plt.plot(y_test, color='blue', label='Actual Stock Price')\n",
    "plt.plot(y_pred, color='red', label='Predicted Stock Price')\n",
    "plt.title('Stock Price Prediction')\n",
    "plt.xlabel('Time')\n",
    "plt.ylabel('Stock Price')\n",
    "plt.legend()\n",
    "plt.show()\n",
    "rmse = np.sqrt(mean_squared_error(y_test, y_pred))\n",
    "print(f'RMSE: {rmse}')\n"
   ]
  },
  {
   "cell_type": "markdown",
   "id": "08b01426-0726-4e5a-9452-5d19c423f0c1",
   "metadata": {},
   "source": [
    "##### "
   ]
  }
 ],
 "metadata": {
  "kernelspec": {
   "display_name": "Python 3 (ipykernel)",
   "language": "python",
   "name": "python3"
  },
  "language_info": {
   "codemirror_mode": {
    "name": "ipython",
    "version": 3
   },
   "file_extension": ".py",
   "mimetype": "text/x-python",
   "name": "python",
   "nbconvert_exporter": "python",
   "pygments_lexer": "ipython3",
   "version": "3.11.5"
  }
 },
 "nbformat": 4,
 "nbformat_minor": 5
}
